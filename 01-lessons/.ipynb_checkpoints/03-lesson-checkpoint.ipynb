{
 "cells": [
  {
   "cell_type": "markdown",
   "metadata": {},
   "source": [
    "# Lesson 3.\n",
    "Lesson 3 is going to be a big culmination of what we've learnt so far.\n",
    "\n",
    "- **Part 1: Loops**\n",
    "    - While Loop\n",
    "    - For Loop\n",
    "    - Using range and length\n",
    "    - Increments\n",
    "    - Appending to lists\n",
    "    - Lists of lists\n",
    "- **Part 2: Vectorized operations**\n",
    "    - List comprehension\n",
    "    - Lambda function\n",
    "    - Apply function\n",
    "- **Part 3: Defining Functions**\n",
    "    - User I/O\n",
    "    - File I/O\n",
    "    - Error checking\n",
    "    "
   ]
  },
  {
   "cell_type": "markdown",
   "metadata": {},
   "source": [
    "# Part 1. Loops."
   ]
  },
  {
   "cell_type": "code",
   "execution_count": null,
   "metadata": {},
   "outputs": [],
   "source": []
  }
 ],
 "metadata": {
  "kernelspec": {
   "display_name": "Python 3",
   "language": "python",
   "name": "python3"
  },
  "language_info": {
   "codemirror_mode": {
    "name": "ipython",
    "version": 3
   },
   "file_extension": ".py",
   "mimetype": "text/x-python",
   "name": "python",
   "nbconvert_exporter": "python",
   "pygments_lexer": "ipython3",
   "version": "3.7.4"
  }
 },
 "nbformat": 4,
 "nbformat_minor": 2
}
