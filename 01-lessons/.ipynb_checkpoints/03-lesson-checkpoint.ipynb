{
 "cells": [
  {
   "cell_type": "markdown",
   "metadata": {},
   "source": [
    "# Lesson 3.\n",
    "Lesson 3 is going to be a big culmination of what we've learnt so far. I kind of hinted at loops and vectorized operations in the past lessons and challenges. Forgive me for that, I was trying to plant seeds rather than confuse you more.\n",
    "\n",
    "The image below is a screenshot of what was previously known as FruityLoops Studio. Now, it's just FL Studio. FL Studio is music production software. A \"loop\" is a particular sound that repeats over and over again until you stop it. Today, we're talking about loops in programming. The same gist about loops applies in programming as it does in music. The same thing \"plays\" over and over again until something has been accomplished, such as a verse perhaps in music or a task in programming.\n",
    "\n",
    "<img src='https://images-na.ssl-images-amazon.com/images/I/71MRnKJ3XfL._AC_SL1500_.jpg' width=600>\n",
    "\n",
    "This is what we're going over today.\n",
    "\n",
    "- **Part 1: Loops**\n",
    "    - While Loop\n",
    "    - For Loop\n",
    "    - Using range and length\n",
    "    - Increments\n",
    "    - Appending to lists\n",
    "    - Lists of lists\n",
    "- **Part 2: Vectorized operations**\n",
    "    - List comprehension\n",
    "    - Lambda function\n",
    "    - Apply function\n",
    "- **Part 3: Defining Functions**\n",
    "    - User I/O\n",
    "    - File I/O\n",
    "    - Error checking\n",
    "    "
   ]
  },
  {
   "cell_type": "markdown",
   "metadata": {},
   "source": [
    "# Part 1. Loops.\n",
    "According to <a href='https://www.mediamusicnow.co.uk/information/glossary-of-music-production-terms/what-is-a-loop.aspx#:~:text=A%20music%20loop%20is%20a,to%20many%20minutes%20in%20length.'>Media Music Now</a>, a **music loop** is \"a section of a piece of music cut in such a way that it can be seamlessly repeated indefinitely by technical means. Loops can range from a few seconds to many minutes in length\".\n",
    "\n",
    "In programming, a **loop structure** is code that repeats something many times. Let's consider the song <a href='https://genius.com/Daft-punk-around-the-world-lyrics'>\"Around the World\" by Daft Punk</a>. The phrase \"around the world\" is sung over and over again. Using a **for loop** in Python, we can sing the song.\n",
    "\n",
    "<font color='navy'>*The following two chunks contain advanced material*. The code in these chunks pulls information from the webpage linked above. When you pull information off of a website using code, it is called **webscraping**. Webscraping is often used to pull data from the internet and make your own dataset. Webscraping is associated with another skill called **natural language processing (NLP)**. We won't be doing any NLP in this lesson, but it good to know what it is. Some of the things you can do with NLP are (1) analyzing whether tweets are seemingly liberal or conservative or (2) checking whether it is the same person posting Facebook statuses under a certain account. For example, a social media manager or the actual account owner may be posting. Anyway, the following two chunks have to do with webscraping and not quite NLP. Read the comments to follow along what the code is doing. Do not try to \"memorize\" it.</font>"
   ]
  },
  {
   "cell_type": "code",
   "execution_count": 31,
   "metadata": {},
   "outputs": [
    {
     "name": "stdout",
     "output_type": "stream",
     "text": [
      "<Response [200]>\n"
     ]
    }
   ],
   "source": [
    "# ADVANCED CODE\n",
    "# TOPIC: WEBSCRAPING\n",
    "# This code will pull the information from a website using its URL.\n",
    "\n",
    "# First, import the requests package.\n",
    "import requests\n",
    "\n",
    "# Feed in the URL of \"Around the World\" lyrics\n",
    "# and save the webpage information to `lyrics_page`.\n",
    "lyrics_link = 'https://genius.com/Daft-punk-around-the-world-lyrics'\n",
    "lyrics_page = requests.get(lyrics_link)\n",
    "\n",
    "# Print out `lyrics_page`, meaning show what status the\n",
    "# webpage is. For example, if you could not find the page,\n",
    "# you would get a 404 error.\n",
    "print(lyrics_page)"
   ]
  },
  {
   "cell_type": "code",
   "execution_count": 34,
   "metadata": {},
   "outputs": [],
   "source": [
    "# ADVANCED CODE\n",
    "# TOPIC: WEBSCRAPING\n",
    "\n",
    "# Import the BeautifulSoup function from the bs4 package.\n",
    "from bs4 import BeautifulSoup\n",
    "\n",
    "# Parse the HTML code of the content of the lyric webpage URL.\n",
    "soup = BeautifulSoup(lyrics_page.content, 'html.parser')\n",
    "\n",
    "# Find the paragraphs on the webpage and\n",
    "# retrieve the text written on the page.\n",
    "around_the_world = soup.find('p').get_text()"
   ]
  },
  {
   "cell_type": "code",
   "execution_count": 35,
   "metadata": {},
   "outputs": [
    {
     "name": "stdout",
     "output_type": "stream",
     "text": [
      "Around the world, around the world\n",
      "Around the world, around the world\n",
      "Around the world, around the world\n",
      "Around the world, around the world\n",
      "Around the world, around the world\n",
      "Around the world, around the world\n",
      "Around the world, around the world\n",
      "Around the world, around the world\n",
      "Around the world, around the world\n",
      "Around the world, around the world\n",
      "Around the world, around the world\n",
      "Around the world, around the world\n",
      "Around the world, around the world\n",
      "Around the world, around the world\n",
      "Around the world, around the world\n",
      "Around the world, around the world\n",
      "Around the world, around the world\n",
      "Around the world, around the world\n",
      "Around the world, around the world\n",
      "Around the world, around the world\n",
      "Around the world, around the world\n",
      "Around the world, around the world\n",
      "Around the world, around the world\n",
      "Around the world, around the world\n",
      "Around the world, around the world\n",
      "Around the world, around the world\n",
      "Around the world, around the world\n",
      "Around the world, around the world\n",
      "Around the world, around the world\n",
      "Around the world, around the world\n",
      "Around the world, around the world\n",
      "Around the world, around the world\n",
      "Around the world, around the world\n",
      "Around the world, around the world\n",
      "Around the world, around the world\n",
      "Around the world, around the world\n",
      "Around the world, around the world\n",
      "Around the world, around the world\n",
      "Around the world, around the world\n",
      "Around the world, around the world\n",
      "Around the world, around the world\n",
      "Around the world, around the world\n",
      "Around the world, around the world\n",
      "Around the world, around the world\n",
      "Around the world, around the world\n",
      "Around the world, around the world\n",
      "Around the world, around the world\n",
      "Around the world, around the world\n",
      "Around the world, around the world\n",
      "Around the world, around the world\n",
      "Around the world, around the world\n",
      "Around the world, around the world\n",
      "Around the world, around the world\n",
      "Around the world, around the world\n",
      "Around the world, around the world\n",
      "Around the world, around the world\n",
      "Around the world, around the world\n",
      "Around the world, around the world\n",
      "Around the world, around the world\n",
      "Around the world, around the world\n",
      "Around the world, around the world\n",
      "Around the world, around the world\n",
      "Around the world, around the world\n",
      "Around the world, around the world\n",
      "Around the world, around the world\n",
      "Around the world, around the world\n",
      "Around the world, around the world\n",
      "Around the world, around the world\n",
      "Around the world, around the world\n",
      "Around the world, around the world\n",
      "Around the world, around the world\n",
      "Around the world, around the world\n"
     ]
    }
   ],
   "source": [
    "# Print out the text we retrieved from the lyrics page.\n",
    "print(around_the_world)"
   ]
  },
  {
   "cell_type": "markdown",
   "metadata": {},
   "source": [
    "Now, recall the **string manipulation** you learned through Challenge 1A. I want to take time to review it really quickly!\n",
    "\n",
    "In the following chunk, what are we doing? We are taking the long string of lyrics and converting it into a list cutting it into pieces after every `\\n` newline character."
   ]
  },
  {
   "cell_type": "code",
   "execution_count": 38,
   "metadata": {},
   "outputs": [
    {
     "data": {
      "text/plain": [
       "['Around the world, around the world',\n",
       " 'Around the world, around the world',\n",
       " 'Around the world, around the world',\n",
       " 'Around the world, around the world',\n",
       " 'Around the world, around the world',\n",
       " 'Around the world, around the world']"
      ]
     },
     "execution_count": 38,
     "metadata": {},
     "output_type": "execute_result"
    }
   ],
   "source": [
    "# SPLIT THE STRING BY NEWLINE CHARACTERS\n",
    "list_of_atw = around_the_world.split('\\n')\n",
    "\n",
    "# SHOW THE FIRST 5 ITEMS WITHIN THE LIST\n",
    "list_of_atw[0:6]"
   ]
  },
  {
   "cell_type": "markdown",
   "metadata": {},
   "source": [
    "We can check how long our list is by using `len()`.\n",
    "\n",
    "<font color='red'>**Question**: What does `len()` show in this case?</font>"
   ]
  },
  {
   "cell_type": "code",
   "execution_count": 39,
   "metadata": {},
   "outputs": [
    {
     "data": {
      "text/plain": [
       "72"
      ]
     },
     "execution_count": 39,
     "metadata": {},
     "output_type": "execute_result"
    }
   ],
   "source": [
    "# HOW LONG IS OUR LIST?\n",
    "len(list_of_atw)"
   ]
  },
  {
   "cell_type": "markdown",
   "metadata": {},
   "source": [
    "Since we know that \"Around the World\" by Daft Punk repeats the lyrics \"arooound the world, aaaroooound the woooorld\" 72 times, we can let Python go ahead and sing the lyrics for us.\n",
    "\n",
    "<font color='red'>**Directions**: Run the following chunk and see how Python will print out the list object we created.</font>"
   ]
  },
  {
   "cell_type": "code",
   "execution_count": 72,
   "metadata": {},
   "outputs": [
    {
     "name": "stdout",
     "output_type": "stream",
     "text": [
      "Around the world, around the world\n",
      "Around the world, around the world\n",
      "Around the world, around the world\n",
      "Around the world, around the world\n",
      "Around the world, around the world\n",
      "Around the world, around the world\n",
      "Around the world, around the world\n",
      "Around the world, around the world\n",
      "Around the world, around the world\n",
      "Around the world, around the world\n",
      "Around the world, around the world\n",
      "Around the world, around the world\n",
      "Around the world, around the world\n",
      "Around the world, around the world\n",
      "Around the world, around the world\n",
      "Around the world, around the world\n",
      "Around the world, around the world\n",
      "Around the world, around the world\n",
      "Around the world, around the world\n",
      "Around the world, around the world\n",
      "Around the world, around the world\n",
      "Around the world, around the world\n",
      "Around the world, around the world\n",
      "Around the world, around the world\n",
      "Around the world, around the world\n",
      "Around the world, around the world\n",
      "Around the world, around the world\n",
      "Around the world, around the world\n",
      "Around the world, around the world\n",
      "Around the world, around the world\n",
      "Around the world, around the world\n",
      "Around the world, around the world\n",
      "Around the world, around the world\n",
      "Around the world, around the world\n",
      "Around the world, around the world\n",
      "Around the world, around the world\n",
      "Around the world, around the world\n",
      "Around the world, around the world\n",
      "Around the world, around the world\n",
      "Around the world, around the world\n",
      "Around the world, around the world\n",
      "Around the world, around the world\n",
      "Around the world, around the world\n",
      "Around the world, around the world\n",
      "Around the world, around the world\n",
      "Around the world, around the world\n",
      "Around the world, around the world\n",
      "Around the world, around the world\n",
      "Around the world, around the world\n",
      "Around the world, around the world\n",
      "Around the world, around the world\n",
      "Around the world, around the world\n",
      "Around the world, around the world\n",
      "Around the world, around the world\n",
      "Around the world, around the world\n",
      "Around the world, around the world\n",
      "Around the world, around the world\n",
      "Around the world, around the world\n",
      "Around the world, around the world\n",
      "Around the world, around the world\n",
      "Around the world, around the world\n",
      "Around the world, around the world\n",
      "Around the world, around the world\n",
      "Around the world, around the world\n",
      "Around the world, around the world\n",
      "Around the world, around the world\n",
      "Around the world, around the world\n",
      "Around the world, around the world\n",
      "Around the world, around the world\n",
      "Around the world, around the world\n",
      "Around the world, around the world\n",
      "Around the world, around the world\n"
     ]
    }
   ],
   "source": [
    "# IMPORTING A LIBRARY (NOT IMPORTANT RIGHT NOW)\n",
    "import time\n",
    "\n",
    "# FOR LOOP\n",
    "# Notice that Python will print each piece of the `list_of_atw`.\n",
    "# That is 72 repetitions.\n",
    "for each_string in list_of_atw:\n",
    "    time.sleep(0.25)\n",
    "    print(each_string)"
   ]
  },
  {
   "cell_type": "markdown",
   "metadata": {},
   "source": [
    "We have now run your very first **for loop**. To better understand a for loop, let's look at a few examples.\n",
    "\n",
    "**Example 1**\n",
    "The structure of a for loop is as follows.\n",
    "\n",
    "```\n",
    "for placeholder_name_here in list_like_object:\n",
    "    # DO SOMETHING BASED ON PLACEHOLDER\n",
    "    print(placeholder_name_here)\n",
    "```\n",
    "\n",
    "In example 1, we have a list of strings: `['a', 'b', 'c']`. We have a placeholder that we called `item`. What this is telling the computer to do is\n",
    "\n",
    "1. Split up the list piece-by-piece (i.e. index-by-index).\n",
    "2. Print out each piece one at a time."
   ]
  },
  {
   "cell_type": "code",
   "execution_count": 50,
   "metadata": {},
   "outputs": [
    {
     "name": "stdout",
     "output_type": "stream",
     "text": [
      "a\n",
      "b\n",
      "c\n"
     ]
    }
   ],
   "source": [
    "# EXAMPLE 1A\n",
    "for item in ['a', 'b', 'c']:\n",
    "    print(item)"
   ]
  },
  {
   "cell_type": "markdown",
   "metadata": {},
   "source": [
    "Notice that we can change the word `item` to anything. What's important is understanding its function. It is referring to each separate piece of the list `['a', 'b', 'c']`."
   ]
  },
  {
   "cell_type": "code",
   "execution_count": 74,
   "metadata": {},
   "outputs": [
    {
     "name": "stdout",
     "output_type": "stream",
     "text": [
      "a\n",
      "b\n",
      "c\n"
     ]
    }
   ],
   "source": [
    "# EXAMPLE 1B\n",
    "for whatever in ['a', 'b', 'c']:\n",
    "    print(whatever)"
   ]
  },
  {
   "cell_type": "markdown",
   "metadata": {},
   "source": [
    "<font color='navy'>\n",
    "    \n",
    "**How do we choose how to name our variables?** In coding, we tend not to want to name our variables in a fashion an outsider can't understand. Imagine if I have this code, and I name the variable as follows, giving it the value of 1.60934.\n",
    "\n",
    "```\n",
    "fucking_shit = 1.60934\n",
    "```\n",
    "    \n",
    "Technically, yes, I can name a lot of important variables in my code `fucking_shit`. It's funny to me, and I will probably understand what I mean by naming my variable `fucking_shit` if I'm tirelessly working on the code. However, me in 6 months or anyone observing will not understand what `fucking_shit` is. What would be better is if I named my variable something \"readable\".\n",
    "    \n",
    "```\n",
    "num_km_in_mile = 1.60934\n",
    "```\n",
    "\n",
    "Having my variable named `num_km_in_mile` makes everything so much more understandable, even for someone who is just reading your code for the first time. Of course, this is an extreme example, but we want to aim for readable code.\n",
    "</font>"
   ]
  },
  {
   "cell_type": "markdown",
   "metadata": {},
   "source": [
    "**Example 2** The next example will iterate over values of indices. This contrasts a bit to what happened above. For example, instead of iterating of `['a', 'b', 'c']`, we iterate over a list of numbers, i.e. `[9, 4, 17, 17, 8, 2, 10]`. The gist doesn't change much. You just have to think about different scenarios in which you would want to iterate over a certain type of list."
   ]
  },
  {
   "cell_type": "code",
   "execution_count": 54,
   "metadata": {},
   "outputs": [
    {
     "ename": "ValueError",
     "evalue": "empty separator",
     "output_type": "error",
     "traceback": [
      "\u001b[0;31m---------------------------------------------------------------------------\u001b[0m",
      "\u001b[0;31mValueError\u001b[0m                                Traceback (most recent call last)",
      "\u001b[0;32m<ipython-input-54-e369fdb88e2a>\u001b[0m in \u001b[0;36m<module>\u001b[0;34m\u001b[0m\n\u001b[1;32m      3\u001b[0m \u001b[0;31m# We cannot use string splitting on \"nothing\".\u001b[0m\u001b[0;34m\u001b[0m\u001b[0;34m\u001b[0m\u001b[0;34m\u001b[0m\u001b[0m\n\u001b[1;32m      4\u001b[0m \u001b[0malphabet\u001b[0m \u001b[0;34m=\u001b[0m \u001b[0;34m'abcdefghijklmnopqrstuvwxyz'\u001b[0m\u001b[0;34m\u001b[0m\u001b[0;34m\u001b[0m\u001b[0m\n\u001b[0;32m----> 5\u001b[0;31m \u001b[0malphabet\u001b[0m \u001b[0;34m=\u001b[0m \u001b[0malphabet\u001b[0m\u001b[0;34m.\u001b[0m\u001b[0msplit\u001b[0m\u001b[0;34m(\u001b[0m\u001b[0;34m''\u001b[0m\u001b[0;34m)\u001b[0m\u001b[0;34m\u001b[0m\u001b[0;34m\u001b[0m\u001b[0m\n\u001b[0m",
      "\u001b[0;31mValueError\u001b[0m: empty separator"
     ]
    }
   ],
   "source": [
    "# EXAMPLE 2A\n",
    "# This will throw an error.\n",
    "# We cannot use string splitting on \"nothing\".\n",
    "alphabet = 'abcdefghijklmnopqrstuvwxyz'\n",
    "alphabet = alphabet.split('')"
   ]
  },
  {
   "cell_type": "code",
   "execution_count": 64,
   "metadata": {},
   "outputs": [
    {
     "name": "stdout",
     "output_type": "stream",
     "text": [
      "['a', 'b', 'c', 'd', 'e', 'f', 'g', 'h', 'i', 'j', 'k', 'l', 'm', 'n', 'o', 'p', 'q', 'r', 's', 't', 'u', 'v', 'w', 'x', 'y', 'z']\n"
     ]
    }
   ],
   "source": [
    "# EXAMPLE 2B\n",
    "# This won't throw an error!\n",
    "# Using `list()` on a string will separate by character.\n",
    "alphabet = 'abcdefghijklmnopqrstuvwxyz'\n",
    "alphabet = list(alphabet)\n",
    "print(alphabet)"
   ]
  },
  {
   "cell_type": "code",
   "execution_count": 65,
   "metadata": {},
   "outputs": [
    {
     "name": "stdout",
     "output_type": "stream",
     "text": [
      "j\n",
      "e\n",
      "r\n",
      "r\n",
      "i\n",
      "c\n",
      "k\n"
     ]
    }
   ],
   "source": [
    "# EXAMPLE 2C\n",
    "for index_number in [9, 4, 17, 17, 8, 2, 10]:\n",
    "    print(alphabet[index_number])"
   ]
  },
  {
   "cell_type": "markdown",
   "metadata": {},
   "source": [
    "**Example 3**"
   ]
  },
  {
   "cell_type": "code",
   "execution_count": 67,
   "metadata": {},
   "outputs": [
    {
     "data": {
      "text/plain": [
       "26"
      ]
     },
     "execution_count": 67,
     "metadata": {},
     "output_type": "execute_result"
    }
   ],
   "source": [
    "# EXAMPLE 3\n",
    "len(alphabet)"
   ]
  },
  {
   "cell_type": "code",
   "execution_count": 68,
   "metadata": {},
   "outputs": [
    {
     "data": {
      "text/plain": [
       "range(0, 26)"
      ]
     },
     "execution_count": 68,
     "metadata": {},
     "output_type": "execute_result"
    }
   ],
   "source": [
    "# EXAMPLE 3\n",
    "range(len(alphabet))"
   ]
  },
  {
   "cell_type": "code",
   "execution_count": 70,
   "metadata": {},
   "outputs": [
    {
     "name": "stdout",
     "output_type": "stream",
     "text": [
      "0\n",
      "1\n",
      "2\n",
      "3\n",
      "4\n",
      "5\n",
      "6\n",
      "7\n",
      "8\n",
      "9\n",
      "10\n",
      "11\n",
      "12\n",
      "13\n",
      "14\n",
      "15\n",
      "16\n",
      "17\n",
      "18\n",
      "19\n",
      "20\n",
      "21\n",
      "22\n",
      "23\n",
      "24\n",
      "25\n"
     ]
    }
   ],
   "source": [
    "# EXAMPLE 3\n",
    "for value in range(len(alphabet)):\n",
    "    time.sleep(0.1)\n",
    "    print(value)"
   ]
  },
  {
   "cell_type": "code",
   "execution_count": 73,
   "metadata": {},
   "outputs": [
    {
     "name": "stdout",
     "output_type": "stream",
     "text": [
      "a\n",
      "b\n",
      "c\n",
      "d\n",
      "e\n",
      "f\n",
      "g\n",
      "h\n",
      "i\n",
      "j\n",
      "k\n",
      "l\n",
      "m\n",
      "n\n",
      "o\n",
      "p\n",
      "q\n",
      "r\n",
      "s\n",
      "t\n",
      "u\n",
      "v\n",
      "w\n",
      "x\n",
      "y\n",
      "z\n"
     ]
    }
   ],
   "source": [
    "# EXAMPLE 3\n",
    "for value in range(len(alphabet)):\n",
    "    time.sleep(0.1)\n",
    "    print(alphabet[value])"
   ]
  },
  {
   "cell_type": "code",
   "execution_count": null,
   "metadata": {},
   "outputs": [],
   "source": []
  }
 ],
 "metadata": {
  "kernelspec": {
   "display_name": "Python 3",
   "language": "python",
   "name": "python3"
  },
  "language_info": {
   "codemirror_mode": {
    "name": "ipython",
    "version": 3
   },
   "file_extension": ".py",
   "mimetype": "text/x-python",
   "name": "python",
   "nbconvert_exporter": "python",
   "pygments_lexer": "ipython3",
   "version": "3.7.4"
  }
 },
 "nbformat": 4,
 "nbformat_minor": 2
}
